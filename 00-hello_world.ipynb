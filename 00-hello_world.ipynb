{
 "cells": [
  {
   "cell_type": "markdown",
   "metadata": {},
   "source": [
    "# 00 - Test Notebook"
   ]
  },
  {
   "cell_type": "markdown",
   "metadata": {},
   "source": [
    "This notebook tests adding new notebooks directly from a [github.dev](https://github.dev) console. Check that this notebook is opened with [Pyolite](https://github.com/Presslabs/pyolite) interpreter (should be in the top right corner). Now, if you can execute the line below succesfully, it means you're all set and ready to go!\n",
    "\n",
    "Have fun with other notebooks, don't hesitate to start experimenting on your own!"
   ]
  },
  {
   "cell_type": "code",
   "execution_count": null,
   "metadata": {},
   "outputs": [
    {
     "name": "stdout",
     "output_type": "stream",
     "text": [
      "Hello word from Python in a browser.\n"
     ]
    }
   ],
   "source": [
    "print('Hello word from Python in a browser.')"
   ]
  },
  {
   "cell_type": "code",
   "execution_count": null,
   "metadata": {},
   "outputs": [],
   "source": []
  }
 ],
 "metadata": {
  "language_info": {
   "name": "python"
  },
  "orig_nbformat": 4
 },
 "nbformat": 4,
 "nbformat_minor": 2
}
