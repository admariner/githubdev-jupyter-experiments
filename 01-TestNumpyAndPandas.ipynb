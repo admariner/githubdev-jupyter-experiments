{
 "cells": [
  {
   "cell_type": "markdown",
   "metadata": {},
   "source": [
    "# 01 - Test Numpy and Pandas basic operations"
   ]
  },
  {
   "cell_type": "markdown",
   "metadata": {},
   "source": [
    "This notebook tests some Numpy and Pandas operations directly from [GitHub.dev](https://github.dev) console using browser only."
   ]
  },
  {
   "cell_type": "code",
   "execution_count": null,
   "metadata": {},
   "outputs": [],
   "source": [
    "# Whoa!\n",
    "\n",
    "import math\n",
    "import numpy as np\n",
    "import pandas as pd\n",
    "from scipy.spatial import distance"
   ]
  },
  {
   "cell_type": "code",
   "execution_count": null,
   "metadata": {},
   "outputs": [],
   "source": [
    "# Calculating the Euclidean distance between two vectors (the shortest distance between the 2 points irrespective of the dimensions).\n",
    "\n",
    "def euclidean_dist_simple(v1, v2):\n",
    "    dist = [math.pow((a - b), 2) for a, b in zip(v1, v2)]\n",
    "    eudist = math.sqrt(sum(dist))\n",
    "    return eudist\n",
    "\n",
    "\n",
    "def euclidean_dist_numpy_1(v1, v2):\n",
    "    v1_a = np.array(v1)\n",
    "    v2_a = np.array(v2)\n",
    "    sd = np.sum((v1 - v2) ** 2)\n",
    "    eudist = np.sqrt(sd)\n",
    "    return eudist\n",
    "\n",
    "def euclidean_dist_numpy_2(v1, v2):\n",
    "    return np.linalg.norm(v1 - v2)\n",
    "\n",
    "def euclidean_dist_scipy(v1, v2):\n",
    "    return distance.euclidean(v1, v2)\n"
   ]
  },
  {
   "cell_type": "code",
   "execution_count": 18,
   "metadata": {},
   "outputs": [
    {
     "data": {
      "text/plain": [
       "(array([0.03749332, 0.32620903, 0.14803189, 0.42369012, 0.89550885,\n",
       "        0.89766749, 0.03343502, 0.77541136, 0.84541714, 0.31494427,\n",
       "        0.90605383, 0.15578698, 0.80177435, 0.47315441, 0.82148173,\n",
       "        0.36941354, 0.45338368, 0.9514657 , 0.09590251, 0.26166393]),\n",
       " array([0.23506   , 0.56125406, 0.316076  , 0.5050455 , 0.5907296 ,\n",
       "        0.31781446, 0.54741105, 0.39965401, 0.81526403, 0.49994884,\n",
       "        0.82842781, 0.60452791, 0.01704468, 0.63365631, 0.77807435,\n",
       "        0.72446147, 0.17760082, 0.06243919, 0.62444235, 0.94305795]))"
      ]
     },
     "execution_count": 18,
     "metadata": {},
     "output_type": "execute_result"
    }
   ],
   "source": [
    "dis1 = np.random.rand(20)\n",
    "dis2 = np.random.rand(20)\n",
    "v1, v2 = np.array(dis1), np.array(dis2)\n",
    "v1, v2"
   ]
  },
  {
   "cell_type": "code",
   "execution_count": null,
   "metadata": {},
   "outputs": [
    {
     "name": "stdout",
     "output_type": "stream",
     "text": [
      "math approach: 3.3344666666666853\n",
      "numpy simple approach: 1.51230000000002\n",
      "numpy.linalg.norm approach: 1.0336666666667043\n",
      "scipy.distance approach: 2.0062333333333604\n"
     ]
    }
   ],
   "source": [
    "# Inspired by https://stackoverflow.com/questions/37794849/efficient-and-precise-calculation-of-the-euclidean-distance\n",
    "\n",
    "import timeit\n",
    "\n",
    "def wrapper(func, *args, **kwargs):\n",
    "    def wrapped():\n",
    "        return func(*args, **kwargs)\n",
    "    return wrapped\n",
    "\n",
    "wrappered1 = wrapper(euclidean_dist_simple, v1, v2)\n",
    "wrappered2 = wrapper(euclidean_dist_numpy_1, v1, v2)\n",
    "wrappered3 = wrapper(euclidean_dist_numpy_2, v1, v2)\n",
    "wrappered5 = wrapper(euclidean_dist_scipy, v1, v2)\n",
    "ts = timeit.repeat(wrappered1, repeat=3, number=100000)\n",
    "tn1 = timeit.repeat(wrappered2, repeat=3, number=100000)\n",
    "tn2 = timeit.repeat(wrappered3, repeat=3, number=100000)\n",
    "tscipy = timeit.repeat(wrappered5, repeat=3, number=100000)\n",
    "\n",
    "print(f'math approach: {sum(ts)/len(ts)}')\n",
    "print(f'numpy simple approach: {sum(tn1)/len(tn1)}')\n",
    "print(f'numpy.linalg.norm approach: {sum(tn2)/len(tn2)}')\n",
    "print(f'scipy.distance approach: {sum(tscipy)/len(tscipy)}')"
   ]
  },
  {
   "cell_type": "code",
   "execution_count": null,
   "metadata": {},
   "outputs": [],
   "source": []
  }
 ],
 "metadata": {
  "language_info": {
   "name": "python"
  },
  "orig_nbformat": 4
 },
 "nbformat": 4,
 "nbformat_minor": 2
}
