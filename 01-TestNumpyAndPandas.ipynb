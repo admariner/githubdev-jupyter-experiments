{
 "cells": [
  {
   "cell_type": "markdown",
   "metadata": {},
   "source": [
    "# 01 - Test Numpy and Pandas basic operations"
   ]
  },
  {
   "cell_type": "markdown",
   "metadata": {},
   "source": [
    "This notebook tests some Numpy and Pandas operations directly from [GitHub.dev](https://github.dev) console using browser only."
   ]
  },
  {
   "cell_type": "markdown",
   "metadata": {},
   "source": [
    "## Numpy quick test\n",
    "\n",
    "In this quick example I will test Euclidian Distance calculations using the following approaches:\n",
    "\n",
    "* using Python's built in [math library](https://docs.python.org/3.9/library/math.html),\n",
    "* using same approach, but using [Numpy's](https://numpy.org/doc/stable/reference/) built in functions,\n",
    "* using [numpy.linalg.norm](https://numpy.org/doc/stable/reference/generated/numpy.linalg.norm.html) function (see [this answer](https://stackoverflow.com/questions/1401712/how-can-the-euclidean-distance-be-calculated-with-numpy/1401828#1401828) on StakOverflow for more information),\n",
    "* using [scipy.spatial.distance.euclidean](https://docs.scipy.org/doc/scipy/reference/generated/scipy.spatial.distance.euclidean.html) function, which is designed for it.\n",
    "\n",
    "Then I use [timeit](https://docs.python.org/3.9/library/timeit.html) function to benchmark these approaches. *All done in browser*, yeah!! 🥸"
   ]
  },
  {
   "cell_type": "code",
   "execution_count": null,
   "metadata": {},
   "outputs": [],
   "source": [
    "# Whoa, we're doing Python in the browser!\n",
    "\n",
    "import math\n",
    "import numpy as np\n",
    "import pandas as pd\n",
    "from scipy.spatial import distance"
   ]
  },
  {
   "cell_type": "markdown",
   "metadata": {},
   "source": [
    "Defintion of all four approaches:"
   ]
  },
  {
   "cell_type": "code",
   "execution_count": null,
   "metadata": {},
   "outputs": [],
   "source": [
    "def euclidean_dist_math(v1, v2):\n",
    "    dist = [math.pow((a - b), 2) for a, b in zip(v1, v2)]\n",
    "    eudist = math.sqrt(sum(dist))\n",
    "    return eudist\n",
    "\n",
    "\n",
    "def euclidean_dist_numpy_1(v1, v2):\n",
    "    v1_a = np.array(v1)\n",
    "    v2_a = np.array(v2)\n",
    "    sd = np.sum((v1 - v2) ** 2)\n",
    "    eudist = np.sqrt(sd)\n",
    "    return eudist\n",
    "\n",
    "def euclidean_dist_numpy_2(v1, v2):\n",
    "    return np.linalg.norm(v1 - v2)\n",
    "\n",
    "def euclidean_dist_scipy(v1, v2):\n",
    "    return distance.euclidean(v1, v2)\n"
   ]
  },
  {
   "cell_type": "markdown",
   "metadata": {},
   "source": [
    "I'm generating two random vectors for tests:"
   ]
  },
  {
   "cell_type": "code",
   "execution_count": 8,
   "metadata": {},
   "outputs": [
    {
     "data": {
      "text/plain": [
       "(array([0.6011253 , 0.88268413, 0.72489089, 0.49835124, 0.25734033,\n",
       "        0.45259221, 0.51388361, 0.95113192, 0.89941948, 0.34807077,\n",
       "        0.78238147, 0.64165583, 0.27028451, 0.09006867, 0.06878724,\n",
       "        0.44286608, 0.8847115 , 0.66163305, 0.90433019, 0.22369285]),\n",
       " array([0.20453146, 0.35584951, 0.29696016, 0.32267087, 0.52834998,\n",
       "        0.60505067, 0.74883257, 0.52191055, 0.45883077, 0.74255573,\n",
       "        0.23080826, 0.01683285, 0.98629357, 0.70079532, 0.89134223,\n",
       "        0.25795683, 0.71290316, 0.71580891, 0.10940485, 0.5600869 ]))"
      ]
     },
     "execution_count": 8,
     "metadata": {},
     "output_type": "execute_result"
    }
   ],
   "source": [
    "dis1 = np.random.rand(20)\n",
    "dis2 = np.random.rand(20)\n",
    "v1, v2 = np.array(dis1), np.array(dis2)\n",
    "v1, v2"
   ]
  },
  {
   "cell_type": "markdown",
   "metadata": {},
   "source": [
    "And then resting all:"
   ]
  },
  {
   "cell_type": "code",
   "execution_count": null,
   "metadata": {},
   "outputs": [
    {
     "name": "stdout",
     "output_type": "stream",
     "text": [
      "math approach: 3.3474333330000263\n",
      "numpy simple approach: 1.5147999999999986\n",
      "numpy.linalg.norm approach: 1.045099999999972\n",
      "scipy.distance approach: 1.9831666666666479\n"
     ]
    }
   ],
   "source": [
    "# Inspired by https://stackoverflow.com/questions/37794849/efficient-and-precise-calculation-of-the-euclidean-distance\n",
    "\n",
    "import timeit\n",
    "\n",
    "def wrapper(func, *args, **kwargs):\n",
    "    def wrapped():\n",
    "        return func(*args, **kwargs)\n",
    "    return wrapped\n",
    "\n",
    "wrappered_math = wrapper(euclidean_dist_math, v1, v2)\n",
    "wrappered_numpy1 = wrapper(euclidean_dist_numpy_1, v1, v2)\n",
    "wrappered_numpy2 = wrapper(euclidean_dist_numpy_2, v1, v2)\n",
    "wrappered_scipy = wrapper(euclidean_dist_scipy, v1, v2)\n",
    "t_math = timeit.repeat(wrappered_math, repeat=3, number=100000)\n",
    "t_numpy1 = timeit.repeat(wrappered_numpy1, repeat=3, number=100000)\n",
    "t_numpy2 = timeit.repeat(wrappered_numpy2, repeat=3, number=100000)\n",
    "t_scipy = timeit.repeat(wrappered_scipy, repeat=3, number=100000)\n",
    "\n",
    "print(f'math approach: {sum(t_math)/len(t_math)}')\n",
    "print(f'numpy simple approach: {sum(t_numpy1)/len(t_numpy1)}')\n",
    "print(f'numpy.linalg.norm approach: {sum(t_numpy2)/len(t_numpy2)}')\n",
    "print(f'scipy.distance approach: {sum(t_scipy)/len(t_scipy)}')"
   ]
  },
  {
   "cell_type": "markdown",
   "metadata": {},
   "source": [
    "Test came out as expected (tested on Apple MacBook Pro w/M1 using Brave Browser):\n",
    "\n",
    "* The fastest is [numpy.linalg.norm](https://numpy.org/doc/stable/reference/generated/numpy.linalg.norm.html) function, 1.045100s per run,\n",
    "* Followed by [Numpy's](https://numpy.org/doc/stable/reference/) built in functions, 1.514800s per run,\n",
    "* And [scipy.spatial.distance.euclidean](https://docs.scipy.org/doc/scipy/reference/generated/scipy.spatial.distance.euclidean.html) function, 1.983167s per run,\n",
    "* And finally Python's built in [math library](https://docs.python.org/3.9/library/math.html) with 3.347433s per run.\n",
    "\n",
    "*All in the browser!* 😊"
   ]
  },
  {
   "cell_type": "code",
   "execution_count": null,
   "metadata": {},
   "outputs": [],
   "source": []
  }
 ],
 "metadata": {
  "language_info": {
   "name": "python"
  },
  "orig_nbformat": 4
 },
 "nbformat": 4,
 "nbformat_minor": 2
}
