{
 "cells": [
  {
   "cell_type": "markdown",
   "metadata": {},
   "source": [
    "# 01 - Test Numpy basic operations\n",
    "\n",
    "This notebook tests some Numpy operations directly from [GitHub.dev](https://github.dev) console using Python in the browser directly 😍"
   ]
  },
  {
   "cell_type": "markdown",
   "metadata": {},
   "source": [
    "## Numpy test\n",
    "\n",
    "In this quick example I will test Euclidian Distance calculations using the following approaches:\n",
    "\n",
    "* using Python's built in [math library](https://docs.python.org/3.9/library/math.html),\n",
    "* using same approach, but using [Numpy's](https://numpy.org/doc/stable/reference/) built in functions,\n",
    "* using [numpy.linalg.norm](https://numpy.org/doc/stable/reference/generated/numpy.linalg.norm.html) function (see [this answer](https://stackoverflow.com/questions/1401712/how-can-the-euclidean-distance-be-calculated-with-numpy/1401828#1401828) on StakOverflow for more information),\n",
    "* using [scipy.spatial.distance.euclidean](https://docs.scipy.org/doc/scipy/reference/generated/scipy.spatial.distance.euclidean.html) function, which is designed for it.\n",
    "\n",
    "Then I use [timeit](https://docs.python.org/3.9/library/timeit.html) function to benchmark these approaches. *All done in browser*, yeah!! 🥸"
   ]
  },
  {
   "cell_type": "code",
   "execution_count": null,
   "metadata": {},
   "outputs": [],
   "source": [
    "# Whoa, we're doing Python in the browser!\n",
    "\n",
    "import math\n",
    "import numpy as np\n",
    "import pandas as pd\n",
    "from scipy.spatial import distance"
   ]
  },
  {
   "cell_type": "markdown",
   "metadata": {},
   "source": [
    "Defintion of all four approaches:"
   ]
  },
  {
   "cell_type": "code",
   "execution_count": null,
   "metadata": {},
   "outputs": [],
   "source": [
    "def euclidean_dist_math(v1, v2):\n",
    "    dist = [math.pow((a - b), 2) for a, b in zip(v1, v2)]\n",
    "    eudist = math.sqrt(sum(dist))\n",
    "    return eudist\n",
    "\n",
    "\n",
    "def euclidean_dist_numpy_1(v1, v2):\n",
    "    v1_a = np.array(v1)\n",
    "    v2_a = np.array(v2)\n",
    "    sd = np.sum((v1 - v2) ** 2)\n",
    "    eudist = np.sqrt(sd)\n",
    "    return eudist\n",
    "\n",
    "def euclidean_dist_numpy_2(v1, v2):\n",
    "    return np.linalg.norm(v1 - v2)\n",
    "\n",
    "def euclidean_dist_scipy(v1, v2):\n",
    "    return distance.euclidean(v1, v2)\n"
   ]
  },
  {
   "cell_type": "markdown",
   "metadata": {},
   "source": [
    "I'm generating two random vectors for tests:"
   ]
  },
  {
   "cell_type": "code",
   "execution_count": 40,
   "metadata": {},
   "outputs": [
    {
     "data": {
      "text/plain": [
       "(array([0.85785269, 0.4487316 , 0.86080665, 0.15414342, 0.24974709,\n",
       "        0.2895639 , 0.2340785 , 0.53340573, 0.96725424, 0.65639269,\n",
       "        0.98669588, 0.87662192, 0.50414805, 0.85620101, 0.33123078,\n",
       "        0.2265702 , 0.34091318, 0.30261994, 0.97186833, 0.005325  ]),\n",
       " array([0.25932477, 0.68312249, 0.84058217, 0.64248053, 0.49378973,\n",
       "        0.46038518, 0.5698131 , 0.73716253, 0.47597153, 0.37743853,\n",
       "        0.3753025 , 0.10587056, 0.68730655, 0.04646169, 0.16477113,\n",
       "        0.40117483, 0.39630528, 0.04704349, 0.06771778, 0.61792316]))"
      ]
     },
     "execution_count": 40,
     "metadata": {},
     "output_type": "execute_result"
    }
   ],
   "source": [
    "dis1 = np.random.rand(20)\n",
    "dis2 = np.random.rand(20)\n",
    "v1, v2 = np.array(dis1), np.array(dis2)\n",
    "v1, v2"
   ]
  },
  {
   "cell_type": "markdown",
   "metadata": {},
   "source": [
    "And then resting all:"
   ]
  },
  {
   "cell_type": "code",
   "execution_count": null,
   "metadata": {},
   "outputs": [
    {
     "name": "stdout",
     "output_type": "stream",
     "text": [
      "math approach: 3.378466666999998\n",
      "numpy simple approach: 1.5132333330000165\n",
      "numpy.linalg.norm approach: 1.048533332999985\n",
      "scipy.distance approach: 2.0003666663333206\n"
     ]
    }
   ],
   "source": [
    "# Inspired by https://stackoverflow.com/questions/37794849/efficient-and-precise-calculation-of-the-euclidean-distance\n",
    "\n",
    "import timeit\n",
    "\n",
    "def wrapper(func, *args, **kwargs):\n",
    "    def wrapped():\n",
    "        return func(*args, **kwargs)\n",
    "    return wrapped\n",
    "\n",
    "wrappered_math = wrapper(euclidean_dist_math, v1, v2)\n",
    "wrappered_numpy1 = wrapper(euclidean_dist_numpy_1, v1, v2)\n",
    "wrappered_numpy2 = wrapper(euclidean_dist_numpy_2, v1, v2)\n",
    "wrappered_scipy = wrapper(euclidean_dist_scipy, v1, v2)\n",
    "t_math = timeit.repeat(wrappered_math, repeat=3, number=100000)\n",
    "t_numpy1 = timeit.repeat(wrappered_numpy1, repeat=3, number=100000)\n",
    "t_numpy2 = timeit.repeat(wrappered_numpy2, repeat=3, number=100000)\n",
    "t_scipy = timeit.repeat(wrappered_scipy, repeat=3, number=100000)\n",
    "\n",
    "print(f'math approach: {sum(t_math)/len(t_math)}')\n",
    "print(f'numpy simple approach: {sum(t_numpy1)/len(t_numpy1)}')\n",
    "print(f'numpy.linalg.norm approach: {sum(t_numpy2)/len(t_numpy2)}')\n",
    "print(f'scipy.distance approach: {sum(t_scipy)/len(t_scipy)}')"
   ]
  },
  {
   "cell_type": "markdown",
   "metadata": {},
   "source": [
    "Test came out as expected (tested on Apple MacBook Pro w/M1 using Brave Browser):\n",
    "\n",
    "* The fastest is [numpy.linalg.norm](https://numpy.org/doc/stable/reference/generated/numpy.linalg.norm.html) function, 1.048533s per run,\n",
    "* Followed by [Numpy's](https://numpy.org/doc/stable/reference/) built in functions, 1.513233s per run,\n",
    "* And [scipy.spatial.distance.euclidean](https://docs.scipy.org/doc/scipy/reference/generated/scipy.spatial.distance.euclidean.html) function, 2.000367s per run,\n",
    "* And finally Python's built in [math library](https://docs.python.org/3.9/library/math.html) with 3.378467s per run.\n",
    "\n",
    "*All in the browser!* 😊"
   ]
  },
  {
   "cell_type": "code",
   "execution_count": null,
   "metadata": {},
   "outputs": [],
   "source": []
  }
 ],
 "metadata": {
  "language_info": {
   "name": "python"
  },
  "orig_nbformat": 4
 },
 "nbformat": 4,
 "nbformat_minor": 2
}
